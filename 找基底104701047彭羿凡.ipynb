{
 "cells": [
  {
   "cell_type": "markdown",
   "metadata": {},
   "source": [
    "# 課本P.193 EX 3"
   ]
  },
  {
   "cell_type": "code",
   "execution_count": 1,
   "metadata": {},
   "outputs": [],
   "source": [
    "%matplotlib inline\n",
    "import numpy as np\n",
    "import sympy as sp"
   ]
  },
  {
   "cell_type": "code",
   "execution_count": 2,
   "metadata": {},
   "outputs": [],
   "source": [
    "sp.init_printing()"
   ]
  },
  {
   "cell_type": "code",
   "execution_count": 48,
   "metadata": {},
   "outputs": [],
   "source": [
    "#引進x\n",
    "from sympy.abc import x\n",
    "f = 3*x**3 + 2*x**2 + x + 2\n",
    "g = 6*x**3 + 4*x**2 + 2*x + 4\n",
    "h = 7*x**3 + 8*x**2 + 3*x + 6\n",
    "i = 5*x**3 + x + 2\n",
    "j = 9*x**3 + x + 4"
   ]
  },
  {
   "cell_type": "code",
   "execution_count": 49,
   "metadata": {},
   "outputs": [],
   "source": [
    "#將 f,g,h,i,j化為多項式\n",
    "f_p = sp.poly(f)\n",
    "g_p = sp.poly(g)\n",
    "h_p = sp.poly(h)\n",
    "i_p = sp.poly(i)\n",
    "j_p = sp.poly(j)"
   ]
  },
  {
   "cell_type": "code",
   "execution_count": 50,
   "metadata": {},
   "outputs": [],
   "source": [
    "# 列出多項式的係數(包括0)\n",
    "fc = f_p.all_coeffs()\n",
    "gc = g_p.all_coeffs()\n",
    "hc = h_p.all_coeffs()\n",
    "ic = i_p.all_coeffs()\n",
    "jc = j_p.all_coeffs()"
   ]
  },
  {
   "cell_type": "code",
   "execution_count": 51,
   "metadata": {},
   "outputs": [
    {
     "data": {
      "image/png": "[encoded data removed]",
      "text/latex": [
       "$$\\left [ 5, \\quad 0, \\quad 1, \\quad 2\\right ]$$"
      ],
      "text/plain": [
       "[5, 0, 1, 2]"
      ]
     },
     "execution_count": 51,
     "metadata": {},
     "output_type": "execute_result"
    }
   ],
   "source": [
    "ic"
   ]
  },
  {
   "cell_type": "code",
   "execution_count": 52,
   "metadata": {},
   "outputs": [],
   "source": [
    "A =sp.Matrix([fc , gc , hc , ic , jc])  #定義矩陣A"
   ]
  },
  {
   "cell_type": "code",
   "execution_count": 53,
   "metadata": {},
   "outputs": [
    {
     "data": {
      "text/latex": [
       "$$\\left[\\begin{matrix}3 & 2 & 1 & 2\\\\6 & 4 & 2 & 4\\\\7 & 8 & 3 & 6\\\\5 & 0 & 1 & 2\\\\9 & 0 & 1 & 4\\end{matrix}\\right]$$"
      ],
      "text/plain": [
       "⎡3  2  1  2⎤\n",
       "⎢          ⎥\n",
       "⎢6  4  2  4⎥\n",
       "⎢          ⎥\n",
       "⎢7  8  3  6⎥\n",
       "⎢          ⎥\n",
       "⎢5  0  1  2⎥\n",
       "⎢          ⎥\n",
       "⎣9  0  1  4⎦"
      ]
     },
     "execution_count": 53,
     "metadata": {},
     "output_type": "execute_result"
    }
   ],
   "source": [
    "A"
   ]
  },
  {
   "cell_type": "code",
   "execution_count": 54,
   "metadata": {},
   "outputs": [],
   "source": [
    "B = A.T  #A的轉秩"
   ]
  },
  {
   "cell_type": "code",
   "execution_count": 55,
   "metadata": {},
   "outputs": [
    {
     "data": {
      "text/latex": [
       "$$\\left[\\begin{matrix}3 & 6 & 7 & 5 & 9\\\\2 & 4 & 8 & 0 & 0\\\\1 & 2 & 3 & 1 & 1\\\\2 & 4 & 6 & 2 & 4\\end{matrix}\\right]$$"
      ],
      "text/plain": [
       "⎡3  6  7  5  9⎤\n",
       "⎢             ⎥\n",
       "⎢2  4  8  0  0⎥\n",
       "⎢             ⎥\n",
       "⎢1  2  3  1  1⎥\n",
       "⎢             ⎥\n",
       "⎣2  4  6  2  4⎦"
      ]
     },
     "execution_count": 55,
     "metadata": {},
     "output_type": "execute_result"
    }
   ],
   "source": [
    "B"
   ]
  },
  {
   "cell_type": "code",
   "execution_count": 56,
   "metadata": {},
   "outputs": [
    {
     "data": {
      "text/latex": [
       "$$\\left ( \\left[\\begin{matrix}1 & 2 & 0 & 4 & 0\\\\0 & 0 & 1 & -1 & 0\\\\0 & 0 & 0 & 0 & 1\\\\0 & 0 & 0 & 0 & 0\\end{matrix}\\right], \\quad \\left ( 0, \\quad 2, \\quad 4\\right )\\right )$$"
      ],
      "text/plain": [
       "⎛⎡1  2  0  4   0⎤           ⎞\n",
       "⎜⎢              ⎥           ⎟\n",
       "⎜⎢0  0  1  -1  0⎥           ⎟\n",
       "⎜⎢              ⎥, (0, 2, 4)⎟\n",
       "⎜⎢0  0  0  0   1⎥           ⎟\n",
       "⎜⎢              ⎥           ⎟\n",
       "⎝⎣0  0  0  0   0⎦           ⎠"
      ]
     },
     "execution_count": 56,
     "metadata": {},
     "output_type": "execute_result"
    }
   ],
   "source": [
    "B.rref()  #做rref"
   ]
  },
  {
   "cell_type": "code",
   "execution_count": 57,
   "metadata": {},
   "outputs": [
    {
     "data": {
      "image/png": "[encoded data removed]",
      "text/latex": [
       "$$\\left ( 0, \\quad 2, \\quad 4\\right )$$"
      ],
      "text/plain": [
       "(0, 2, 4)"
      ]
     },
     "execution_count": 57,
     "metadata": {},
     "output_type": "execute_result"
    }
   ],
   "source": [
    "r = B.rref()[1]\n",
    "r"
   ]
  },
  {
   "cell_type": "code",
   "execution_count": 58,
   "metadata": {},
   "outputs": [
    {
     "data": {
      "text/latex": [
       "$$\\left[\\begin{matrix}3 & 7 & 9\\\\2 & 8 & 0\\\\1 & 3 & 1\\\\2 & 6 & 4\\end{matrix}\\right]$$"
      ],
      "text/plain": [
       "⎡3  7  9⎤\n",
       "⎢       ⎥\n",
       "⎢2  8  0⎥\n",
       "⎢       ⎥\n",
       "⎢1  3  1⎥\n",
       "⎢       ⎥\n",
       "⎣2  6  4⎦"
      ]
     },
     "execution_count": 58,
     "metadata": {},
     "output_type": "execute_result"
    }
   ],
   "source": [
    "B.col(r)"
   ]
  },
  {
   "cell_type": "code",
   "execution_count": 59,
   "metadata": {},
   "outputs": [
    {
     "data": {
      "text/latex": [
       "$$\\left[\\begin{matrix}3 & 2 & 1 & 2\\\\7 & 8 & 3 & 6\\\\9 & 0 & 1 & 4\\end{matrix}\\right]$$"
      ],
      "text/plain": [
       "⎡3  2  1  2⎤\n",
       "⎢          ⎥\n",
       "⎢7  8  3  6⎥\n",
       "⎢          ⎥\n",
       "⎣9  0  1  4⎦"
      ]
     },
     "execution_count": 59,
     "metadata": {},
     "output_type": "execute_result"
    }
   ],
   "source": [
    "A.row(r)"
   ]
  },
  {
   "cell_type": "code",
   "execution_count": null,
   "metadata": {},
   "outputs": [],
   "source": []
  }
 ],
 "metadata": {
  "kernelspec": {
   "display_name": "Python 3",
   "language": "python",
   "name": "python3"
  },
  "language_info": {
   "codemirror_mode": {
    "name": "ipython",
    "version": 3
   },
   "file_extension": ".py",
   "mimetype": "text/x-python",
   "name": "python",
   "nbconvert_exporter": "python",
   "pygments_lexer": "ipython3",
   "version": "3.6.3"
  }
 },
 "nbformat": 4,
 "nbformat_minor": 2
}
